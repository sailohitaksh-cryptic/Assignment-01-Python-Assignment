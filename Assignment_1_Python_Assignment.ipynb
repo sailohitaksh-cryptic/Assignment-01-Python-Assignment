{
  "nbformat": 4,
  "nbformat_minor": 0,
  "metadata": {
    "colab": {
      "provenance": [],
      "authorship_tag": "ABX9TyN+Ln6/Zvd/UDTvJpHHkAlk",
      "include_colab_link": true
    },
    "kernelspec": {
      "name": "python3",
      "display_name": "Python 3"
    },
    "language_info": {
      "name": "python"
    }
  },
  "cells": [
    {
      "cell_type": "markdown",
      "metadata": {
        "id": "view-in-github",
        "colab_type": "text"
      },
      "source": [
        "<a href=\"https://colab.research.google.com/github/sailohitaksh-cryptic/Assignment-01-Python-Assignment/blob/main/Assignment_1_Python_Assignment.ipynb\" target=\"_parent\"><img src=\"https://colab.research.google.com/assets/colab-badge.svg\" alt=\"Open In Colab\"/></a>"
      ]
    },
    {
      "cell_type": "markdown",
      "source": [
        "# Python Assignment"
      ],
      "metadata": {
        "id": "qEvkY4XCBDNX"
      }
    },
    {
      "cell_type": "markdown",
      "source": [
        "QI. L is a list as defined [11, 12, 13, 14].\n",
        "* WAP to add 50 and 60 to L.\n",
        "* WAP to remove 11 and 13 from L.\n",
        "* WAP to sort L in ascending order.\n",
        "* WAP to sort L in descending order.\n",
        "* WAP to search for 13 in L.\n",
        "* WAP to count the number of elements present in L.\n",
        "* WAP to sum all the elements in L.\n",
        "* WAP to sum all odd numbers in  L.\n",
        "* WAP to sum all even numbers in L.\n",
        "* WAP to sum all PRIME numbers in L.\n",
        "* WAP to clear all elements in L.\n",
        "* WAP to delete L.\n"
      ],
      "metadata": {
        "id": "Tke7TAEiAiac"
      }
    },
    {
      "cell_type": "code",
      "source": [
        "L = [11, 12, 13, 14]"
      ],
      "metadata": {
        "id": "9cJvi8d7CTMD"
      },
      "execution_count": 16,
      "outputs": []
    },
    {
      "cell_type": "code",
      "execution_count": 30,
      "metadata": {
        "id": "hAwbD_XdAfJV"
      },
      "outputs": [],
      "source": [
        "def add_elements():\n",
        "    L.extend([50, 60])\n",
        "\n",
        "def remove_elements():\n",
        "    L.remove(11)\n",
        "    L.remove(13)\n",
        "\n",
        "def sort_ascending():\n",
        "    L.sort()\n",
        "\n",
        "def sort_descending():\n",
        "    L.sort(reverse=True)\n",
        "\n",
        "def search_element(element):\n",
        "    if element in L:\n",
        "        return True\n",
        "    else:\n",
        "        return False\n",
        "\n",
        "def count_elements():\n",
        "    return len(L)\n",
        "\n",
        "def sum_elements():\n",
        "    return sum(L)\n",
        "\n",
        "def sum_odd_numbers():\n",
        "    return sum([num for num in L if num % 2 != 0])\n",
        "\n",
        "def sum_even_numbers():\n",
        "    return sum([num for num in L if num % 2 == 0])\n",
        "\n",
        "def is_prime(number):\n",
        "    if number < 2:\n",
        "        return False\n",
        "    for i in range(2, int(number**0.5) + 1):\n",
        "        if number % i == 0:\n",
        "            return False\n",
        "    return True\n",
        "\n",
        "def sum_prime_numbers():\n",
        "    return sum([num for num in L if is_prime(num)])\n",
        "\n",
        "def clear_list():\n",
        "    L.clear()\n",
        "\n",
        "def delete_list():\n",
        "    global L\n",
        "    del L"
      ]
    },
    {
      "cell_type": "code",
      "source": [
        "add_elements()\n",
        "print(\"List after adding 50 and 60:\", L)"
      ],
      "metadata": {
        "colab": {
          "base_uri": "https://localhost:8080/"
        },
        "id": "S8qwRdjXBNCh",
        "outputId": "b1d36f25-86cc-472e-efbc-f31dcf1aedd1"
      },
      "execution_count": 18,
      "outputs": [
        {
          "output_type": "stream",
          "name": "stdout",
          "text": [
            "List after adding 50 and 60: [11, 12, 13, 14, 50, 60]\n"
          ]
        }
      ]
    },
    {
      "cell_type": "code",
      "source": [
        "remove_elements()\n",
        "print(\"List after removing 11 and 13:\", L)"
      ],
      "metadata": {
        "colab": {
          "base_uri": "https://localhost:8080/"
        },
        "id": "w3SDlalMBYqf",
        "outputId": "feaa5de1-feb6-48fe-88ed-975975c5fa81"
      },
      "execution_count": 19,
      "outputs": [
        {
          "output_type": "stream",
          "name": "stdout",
          "text": [
            "List after removing 11 and 13: [12, 14, 50, 60]\n"
          ]
        }
      ]
    },
    {
      "cell_type": "code",
      "source": [
        "sort_ascending()\n",
        "print(\"List sorted in ascending order:\", L)"
      ],
      "metadata": {
        "colab": {
          "base_uri": "https://localhost:8080/"
        },
        "id": "5YGGMD1zBbci",
        "outputId": "f397cf38-3745-4d2c-bee0-e43727d749f3"
      },
      "execution_count": 20,
      "outputs": [
        {
          "output_type": "stream",
          "name": "stdout",
          "text": [
            "List sorted in ascending order: [12, 14, 50, 60]\n"
          ]
        }
      ]
    },
    {
      "cell_type": "code",
      "source": [
        "sort_descending()\n",
        "print(\"List sorted in descending order:\", L)"
      ],
      "metadata": {
        "colab": {
          "base_uri": "https://localhost:8080/"
        },
        "id": "084I0WmMBeOH",
        "outputId": "5c87cab9-d3a1-4c58-a1ef-0d7878e3018e"
      },
      "execution_count": 21,
      "outputs": [
        {
          "output_type": "stream",
          "name": "stdout",
          "text": [
            "List sorted in descending order: [60, 50, 14, 12]\n"
          ]
        }
      ]
    },
    {
      "cell_type": "code",
      "source": [
        "element = 13\n",
        "if search_element(element):\n",
        "    print(element, \"is present in the list.\")\n",
        "else:\n",
        "    print(element, \"is not present in the list.\")"
      ],
      "metadata": {
        "colab": {
          "base_uri": "https://localhost:8080/"
        },
        "id": "mLtoJlB8Bgpl",
        "outputId": "c65be717-1c2c-4dc3-d33c-64701ee3ea12"
      },
      "execution_count": 22,
      "outputs": [
        {
          "output_type": "stream",
          "name": "stdout",
          "text": [
            "13 is not present in the list.\n"
          ]
        }
      ]
    },
    {
      "cell_type": "code",
      "source": [
        "print(\"Number of elements in the list:\", count_elements())"
      ],
      "metadata": {
        "colab": {
          "base_uri": "https://localhost:8080/"
        },
        "id": "pYp1UtcIBjQ2",
        "outputId": "bb9fbd48-f53e-4974-c2bd-4e8abe7ce43f"
      },
      "execution_count": 23,
      "outputs": [
        {
          "output_type": "stream",
          "name": "stdout",
          "text": [
            "Number of elements in the list: 4\n"
          ]
        }
      ]
    },
    {
      "cell_type": "code",
      "source": [
        "print(\"Sum of all elements in the list:\", sum_elements())"
      ],
      "metadata": {
        "colab": {
          "base_uri": "https://localhost:8080/"
        },
        "id": "MccvBUm0BlOr",
        "outputId": "921810b4-0da3-411b-8db7-4390f6005a4a"
      },
      "execution_count": 24,
      "outputs": [
        {
          "output_type": "stream",
          "name": "stdout",
          "text": [
            "Sum of all elements in the list: 136\n"
          ]
        }
      ]
    },
    {
      "cell_type": "code",
      "source": [
        "print(\"Sum of all odd numbers in the list:\", sum_odd_numbers())"
      ],
      "metadata": {
        "colab": {
          "base_uri": "https://localhost:8080/"
        },
        "id": "eXlun-HbBnHZ",
        "outputId": "c98cb6d9-af21-45b1-f010-9f9e3d085fbd"
      },
      "execution_count": 25,
      "outputs": [
        {
          "output_type": "stream",
          "name": "stdout",
          "text": [
            "Sum of all odd numbers in the list: 0\n"
          ]
        }
      ]
    },
    {
      "cell_type": "code",
      "source": [
        "print(\"Sum of all even numbers in the list:\", sum_even_numbers())"
      ],
      "metadata": {
        "colab": {
          "base_uri": "https://localhost:8080/"
        },
        "id": "e_N1NOjhBtAi",
        "outputId": "0eb0257b-31ce-47b8-e9f2-13f2d07bd4d0"
      },
      "execution_count": 26,
      "outputs": [
        {
          "output_type": "stream",
          "name": "stdout",
          "text": [
            "Sum of all even numbers in the list: 136\n"
          ]
        }
      ]
    },
    {
      "cell_type": "code",
      "source": [
        "print(\"Sum of all prime numbers in the list:\", sum_prime_numbers())"
      ],
      "metadata": {
        "colab": {
          "base_uri": "https://localhost:8080/"
        },
        "id": "sJNIv5BgBvbE",
        "outputId": "30a4d8c6-e613-4081-b241-d4ae2c9c96e3"
      },
      "execution_count": 27,
      "outputs": [
        {
          "output_type": "stream",
          "name": "stdout",
          "text": [
            "Sum of all prime numbers in the list: 0\n"
          ]
        }
      ]
    },
    {
      "cell_type": "code",
      "source": [
        "clear_list()\n",
        "print(\"List after clearing all elements:\", L)"
      ],
      "metadata": {
        "colab": {
          "base_uri": "https://localhost:8080/"
        },
        "id": "oDkJyxNWBxkH",
        "outputId": "b48ad725-2afb-44ce-fb62-e445831eca7d"
      },
      "execution_count": 28,
      "outputs": [
        {
          "output_type": "stream",
          "name": "stdout",
          "text": [
            "List after clearing all elements: []\n"
          ]
        }
      ]
    },
    {
      "cell_type": "code",
      "source": [
        "delete_list()\n",
        "print(\"List deleted.\")"
      ],
      "metadata": {
        "colab": {
          "base_uri": "https://localhost:8080/"
        },
        "id": "VTnDsfnpBz-x",
        "outputId": "22e49b91-3e27-451a-b364-353788b7a364"
      },
      "execution_count": 31,
      "outputs": [
        {
          "output_type": "stream",
          "name": "stdout",
          "text": [
            "List deleted.\n"
          ]
        }
      ]
    },
    {
      "cell_type": "markdown",
      "source": [],
      "metadata": {
        "id": "_IyWJ7BFCzDH"
      }
    },
    {
      "cell_type": "code",
      "source": [],
      "metadata": {
        "id": "OatHzTmICyc-"
      },
      "execution_count": null,
      "outputs": []
    }
  ]
}